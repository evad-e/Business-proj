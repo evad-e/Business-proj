{
 "cells": [
  {
   "cell_type": "code",
   "execution_count": 1,
   "metadata": {},
   "outputs": [],
   "source": [
    "import pandas as pd\n",
    "import matplotlib.pyplot as plt\n",
    "import seaborn as sb\n",
    "import numpy as np\n",
    "from scipy.stats import norm\n",
    "from sklearn.preprocessing import StandardScaler\n",
    "from scipy import stats\n",
    "import warnings\n",
    "warnings.filterwarnings('ignore')\n",
    "%matplotlib inline"
   ]
  },
  {
   "cell_type": "code",
   "execution_count": 3,
   "metadata": {},
   "outputs": [
    {
     "data": {
      "text/html": [
       "<div>\n",
       "<style scoped>\n",
       "    .dataframe tbody tr th:only-of-type {\n",
       "        vertical-align: middle;\n",
       "    }\n",
       "\n",
       "    .dataframe tbody tr th {\n",
       "        vertical-align: top;\n",
       "    }\n",
       "\n",
       "    .dataframe thead th {\n",
       "        text-align: right;\n",
       "    }\n",
       "</style>\n",
       "<table border=\"1\" class=\"dataframe\">\n",
       "  <thead>\n",
       "    <tr style=\"text-align: right;\">\n",
       "      <th></th>\n",
       "      <th>Total Household Income</th>\n",
       "      <th>Region</th>\n",
       "      <th>Total Food Expenditure</th>\n",
       "      <th>Main Source of Income</th>\n",
       "      <th>Agricultural Household indicator</th>\n",
       "      <th>Bread and Cereals Expenditure</th>\n",
       "      <th>Total Rice Expenditure</th>\n",
       "      <th>Meat Expenditure</th>\n",
       "      <th>Total Fish and  marine products Expenditure</th>\n",
       "      <th>Fruit Expenditure</th>\n",
       "      <th>...</th>\n",
       "      <th>Number of Washing Machine</th>\n",
       "      <th>Number of Airconditioner</th>\n",
       "      <th>Number of Car, Jeep, Van</th>\n",
       "      <th>Number of Landline/wireless telephones</th>\n",
       "      <th>Number of Cellular phone</th>\n",
       "      <th>Number of Personal Computer</th>\n",
       "      <th>Number of Stove with Oven/Gas Range</th>\n",
       "      <th>Number of Motorized Banca</th>\n",
       "      <th>Number of Motorcycle/Tricycle</th>\n",
       "      <th>ID</th>\n",
       "    </tr>\n",
       "  </thead>\n",
       "  <tbody>\n",
       "    <tr>\n",
       "      <th>0</th>\n",
       "      <td>480332</td>\n",
       "      <td>CAR</td>\n",
       "      <td>117848</td>\n",
       "      <td>Wage/Salaries</td>\n",
       "      <td>0</td>\n",
       "      <td>42140</td>\n",
       "      <td>38300</td>\n",
       "      <td>24676</td>\n",
       "      <td>16806</td>\n",
       "      <td>3325</td>\n",
       "      <td>...</td>\n",
       "      <td>1</td>\n",
       "      <td>0</td>\n",
       "      <td>0</td>\n",
       "      <td>0</td>\n",
       "      <td>2</td>\n",
       "      <td>1</td>\n",
       "      <td>0</td>\n",
       "      <td>0</td>\n",
       "      <td>1</td>\n",
       "      <td>1</td>\n",
       "    </tr>\n",
       "    <tr>\n",
       "      <th>1</th>\n",
       "      <td>198235</td>\n",
       "      <td>CAR</td>\n",
       "      <td>67766</td>\n",
       "      <td>Wage/Salaries</td>\n",
       "      <td>0</td>\n",
       "      <td>17329</td>\n",
       "      <td>13008</td>\n",
       "      <td>17434</td>\n",
       "      <td>11073</td>\n",
       "      <td>2035</td>\n",
       "      <td>...</td>\n",
       "      <td>1</td>\n",
       "      <td>0</td>\n",
       "      <td>0</td>\n",
       "      <td>0</td>\n",
       "      <td>3</td>\n",
       "      <td>1</td>\n",
       "      <td>0</td>\n",
       "      <td>0</td>\n",
       "      <td>2</td>\n",
       "      <td>2</td>\n",
       "    </tr>\n",
       "    <tr>\n",
       "      <th>2</th>\n",
       "      <td>82785</td>\n",
       "      <td>CAR</td>\n",
       "      <td>61609</td>\n",
       "      <td>Wage/Salaries</td>\n",
       "      <td>1</td>\n",
       "      <td>34182</td>\n",
       "      <td>32001</td>\n",
       "      <td>7783</td>\n",
       "      <td>2590</td>\n",
       "      <td>1730</td>\n",
       "      <td>...</td>\n",
       "      <td>0</td>\n",
       "      <td>0</td>\n",
       "      <td>0</td>\n",
       "      <td>0</td>\n",
       "      <td>0</td>\n",
       "      <td>0</td>\n",
       "      <td>0</td>\n",
       "      <td>0</td>\n",
       "      <td>0</td>\n",
       "      <td>3</td>\n",
       "    </tr>\n",
       "    <tr>\n",
       "      <th>3</th>\n",
       "      <td>107589</td>\n",
       "      <td>CAR</td>\n",
       "      <td>78189</td>\n",
       "      <td>Wage/Salaries</td>\n",
       "      <td>0</td>\n",
       "      <td>34030</td>\n",
       "      <td>28659</td>\n",
       "      <td>10914</td>\n",
       "      <td>10812</td>\n",
       "      <td>690</td>\n",
       "      <td>...</td>\n",
       "      <td>0</td>\n",
       "      <td>0</td>\n",
       "      <td>0</td>\n",
       "      <td>0</td>\n",
       "      <td>1</td>\n",
       "      <td>0</td>\n",
       "      <td>0</td>\n",
       "      <td>0</td>\n",
       "      <td>0</td>\n",
       "      <td>4</td>\n",
       "    </tr>\n",
       "    <tr>\n",
       "      <th>4</th>\n",
       "      <td>189322</td>\n",
       "      <td>CAR</td>\n",
       "      <td>94625</td>\n",
       "      <td>Wage/Salaries</td>\n",
       "      <td>0</td>\n",
       "      <td>34820</td>\n",
       "      <td>30167</td>\n",
       "      <td>18391</td>\n",
       "      <td>11309</td>\n",
       "      <td>1395</td>\n",
       "      <td>...</td>\n",
       "      <td>0</td>\n",
       "      <td>0</td>\n",
       "      <td>0</td>\n",
       "      <td>0</td>\n",
       "      <td>3</td>\n",
       "      <td>0</td>\n",
       "      <td>0</td>\n",
       "      <td>0</td>\n",
       "      <td>1</td>\n",
       "      <td>5</td>\n",
       "    </tr>\n",
       "  </tbody>\n",
       "</table>\n",
       "<p>5 rows × 61 columns</p>\n",
       "</div>"
      ],
      "text/plain": [
       "   Total Household Income Region  Total Food Expenditure  \\\n",
       "0                  480332    CAR                  117848   \n",
       "1                  198235    CAR                   67766   \n",
       "2                   82785    CAR                   61609   \n",
       "3                  107589    CAR                   78189   \n",
       "4                  189322    CAR                   94625   \n",
       "\n",
       "  Main Source of Income  Agricultural Household indicator  \\\n",
       "0         Wage/Salaries                                 0   \n",
       "1         Wage/Salaries                                 0   \n",
       "2         Wage/Salaries                                 1   \n",
       "3         Wage/Salaries                                 0   \n",
       "4         Wage/Salaries                                 0   \n",
       "\n",
       "   Bread and Cereals Expenditure  Total Rice Expenditure  Meat Expenditure  \\\n",
       "0                          42140                   38300             24676   \n",
       "1                          17329                   13008             17434   \n",
       "2                          34182                   32001              7783   \n",
       "3                          34030                   28659             10914   \n",
       "4                          34820                   30167             18391   \n",
       "\n",
       "   Total Fish and  marine products Expenditure  Fruit Expenditure  ...  \\\n",
       "0                                        16806               3325  ...   \n",
       "1                                        11073               2035  ...   \n",
       "2                                         2590               1730  ...   \n",
       "3                                        10812                690  ...   \n",
       "4                                        11309               1395  ...   \n",
       "\n",
       "   Number of Washing Machine  Number of Airconditioner  \\\n",
       "0                          1                         0   \n",
       "1                          1                         0   \n",
       "2                          0                         0   \n",
       "3                          0                         0   \n",
       "4                          0                         0   \n",
       "\n",
       "   Number of Car, Jeep, Van  Number of Landline/wireless telephones  \\\n",
       "0                         0                                       0   \n",
       "1                         0                                       0   \n",
       "2                         0                                       0   \n",
       "3                         0                                       0   \n",
       "4                         0                                       0   \n",
       "\n",
       "   Number of Cellular phone  Number of Personal Computer  \\\n",
       "0                         2                            1   \n",
       "1                         3                            1   \n",
       "2                         0                            0   \n",
       "3                         1                            0   \n",
       "4                         3                            0   \n",
       "\n",
       "   Number of Stove with Oven/Gas Range  Number of Motorized Banca  \\\n",
       "0                                    0                          0   \n",
       "1                                    0                          0   \n",
       "2                                    0                          0   \n",
       "3                                    0                          0   \n",
       "4                                    0                          0   \n",
       "\n",
       "   Number of Motorcycle/Tricycle  ID  \n",
       "0                              1   1  \n",
       "1                              2   2  \n",
       "2                              0   3  \n",
       "3                              0   4  \n",
       "4                              1   5  \n",
       "\n",
       "[5 rows x 61 columns]"
      ]
     },
     "execution_count": 3,
     "metadata": {},
     "output_type": "execute_result"
    }
   ],
   "source": [
    "df = pd.read_csv('Family Income and Expenditure.csv')\n",
    "df.head()"
   ]
  },
  {
   "cell_type": "code",
   "execution_count": 4,
   "metadata": {},
   "outputs": [
    {
     "name": "stdout",
     "output_type": "stream",
     "text": [
      "<class 'pandas.core.frame.DataFrame'>\n",
      "RangeIndex: 41544 entries, 0 to 41543\n",
      "Data columns (total 61 columns):\n",
      " #   Column                                         Non-Null Count  Dtype \n",
      "---  ------                                         --------------  ----- \n",
      " 0   Total Household Income                         41544 non-null  int64 \n",
      " 1   Region                                         41544 non-null  object\n",
      " 2   Total Food Expenditure                         41544 non-null  int64 \n",
      " 3   Main Source of Income                          41544 non-null  object\n",
      " 4   Agricultural Household indicator               41544 non-null  int64 \n",
      " 5   Bread and Cereals Expenditure                  41544 non-null  int64 \n",
      " 6   Total Rice Expenditure                         41544 non-null  int64 \n",
      " 7   Meat Expenditure                               41544 non-null  int64 \n",
      " 8   Total Fish and  marine products Expenditure    41544 non-null  int64 \n",
      " 9   Fruit Expenditure                              41544 non-null  int64 \n",
      " 10  Vegetables Expenditure                         41544 non-null  int64 \n",
      " 11  Restaurant and hotels Expenditure              41544 non-null  int64 \n",
      " 12  Alcoholic Beverages Expenditure                41544 non-null  int64 \n",
      " 13  Tobacco Expenditure                            41544 non-null  int64 \n",
      " 14  Clothing, Footwear and Other Wear Expenditure  41544 non-null  int64 \n",
      " 15  Housing and water Expenditure                  41544 non-null  int64 \n",
      " 16  Imputed House Rental Value                     41544 non-null  int64 \n",
      " 17  Medical Care Expenditure                       41544 non-null  int64 \n",
      " 18  Transportation Expenditure                     41544 non-null  int64 \n",
      " 19  Communication Expenditure                      41544 non-null  int64 \n",
      " 20  Education Expenditure                          41544 non-null  int64 \n",
      " 21  Miscellaneous Goods and Services Expenditure   41544 non-null  int64 \n",
      " 22  Special Occasions Expenditure                  41544 non-null  int64 \n",
      " 23  Crop Farming and Gardening expenses            41544 non-null  int64 \n",
      " 24  Total Income from Entrepreneurial Acitivites   41544 non-null  int64 \n",
      " 25  Household Head Sex                             41544 non-null  object\n",
      " 26  Household Head Age                             41544 non-null  int64 \n",
      " 27  Household Head Marital Status                  41544 non-null  object\n",
      " 28  Household Head Highest Grade Completed         41544 non-null  object\n",
      " 29  Household Head Job or Business Indicator       41544 non-null  object\n",
      " 30  Household Head Occupation                      34008 non-null  object\n",
      " 31  Household Head Class of Worker                 34008 non-null  object\n",
      " 32  Type of Household                              41544 non-null  object\n",
      " 33  Total Number of Family members                 41544 non-null  int64 \n",
      " 34  Members with age less than 5 year old          41544 non-null  int64 \n",
      " 35  Members with age 5 - 17 years old              41544 non-null  int64 \n",
      " 36  Total number of family members employed        41544 non-null  int64 \n",
      " 37  Type of Building/House                         41544 non-null  object\n",
      " 38  Type of Roof                                   41544 non-null  object\n",
      " 39  Type of Walls                                  41544 non-null  object\n",
      " 40  House Floor Area                               41544 non-null  int64 \n",
      " 41  House Age                                      41544 non-null  int64 \n",
      " 42  Number of bedrooms                             41544 non-null  int64 \n",
      " 43  Tenure Status                                  41544 non-null  object\n",
      " 44  Toilet Facilities                              41544 non-null  object\n",
      " 45  Electricity                                    41544 non-null  int64 \n",
      " 46  Main Source of Water Supply                    41544 non-null  object\n",
      " 47  Number of Television                           41544 non-null  int64 \n",
      " 48  Number of CD/VCD/DVD                           41544 non-null  int64 \n",
      " 49  Number of Component/Stereo set                 41544 non-null  int64 \n",
      " 50  Number of Refrigerator/Freezer                 41544 non-null  int64 \n",
      " 51  Number of Washing Machine                      41544 non-null  int64 \n",
      " 52  Number of Airconditioner                       41544 non-null  int64 \n",
      " 53  Number of Car, Jeep, Van                       41544 non-null  int64 \n",
      " 54  Number of Landline/wireless telephones         41544 non-null  int64 \n",
      " 55  Number of Cellular phone                       41544 non-null  int64 \n",
      " 56  Number of Personal Computer                    41544 non-null  int64 \n",
      " 57  Number of Stove with Oven/Gas Range            41544 non-null  int64 \n",
      " 58  Number of Motorized Banca                      41544 non-null  int64 \n",
      " 59  Number of Motorcycle/Tricycle                  41544 non-null  int64 \n",
      " 60  ID                                             41544 non-null  int64 \n",
      "dtypes: int64(46), object(15)\n",
      "memory usage: 19.3+ MB\n"
     ]
    }
   ],
   "source": [
    "df.info()"
   ]
  },
  {
   "cell_type": "code",
   "execution_count": 5,
   "metadata": {},
   "outputs": [
    {
     "data": {
      "text/plain": [
       "count    4.154400e+04\n",
       "mean     2.475556e+05\n",
       "std      2.868805e+05\n",
       "min      1.128500e+04\n",
       "25%      1.048950e+05\n",
       "50%      1.640795e+05\n",
       "75%      2.911385e+05\n",
       "max      1.181599e+07\n",
       "Name: Total Household Income, dtype: float64"
      ]
     },
     "execution_count": 5,
     "metadata": {},
     "output_type": "execute_result"
    }
   ],
   "source": [
    "#describe the goal variable\n",
    "\n",
    "df['Total Household Income'].describe()"
   ]
  },
  {
   "cell_type": "code",
   "execution_count": 9,
   "metadata": {},
   "outputs": [
    {
     "data": {
      "text/plain": [
       "20629.632066804672"
      ]
     },
     "execution_count": 9,
     "metadata": {},
     "output_type": "execute_result"
    }
   ],
   "source": [
    "#get the average monthly income of the dataset\n",
    "\n",
    "df['Total Household Income'].mean()/12"
   ]
  },
  {
   "cell_type": "code",
   "execution_count": 11,
   "metadata": {},
   "outputs": [
    {
     "data": {
      "text/plain": [
       "<AxesSubplot: xlabel='Total Household Income'>"
      ]
     },
     "execution_count": 11,
     "metadata": {},
     "output_type": "execute_result"
    },
    {
     "data": {
      "image/png": "[encoded data removed]",
      "text/plain": [
       "<Figure size 640x480 with 1 Axes>"
      ]
     },
     "metadata": {},
     "output_type": "display_data"
    }
   ],
   "source": [
    "sb.boxplot(x=df['Total Household Income'])"
   ]
  },
  {
   "cell_type": "code",
   "execution_count": 13,
   "metadata": {},
   "outputs": [
    {
     "name": "stdout",
     "output_type": "stream",
     "text": [
      "Skewness: 8.896631\n"
     ]
    },
    {
     "data": {
      "image/png": "[encoded data removed]",
      "text/plain": [
       "<Figure size 640x480 with 1 Axes>"
      ]
     },
     "metadata": {},
     "output_type": "display_data"
    }
   ],
   "source": [
    "sb.distplot(df['Total Household Income'])\n",
    "print(\"Skewness: %f\" % df['Total Household Income'].skew())"
   ]
  },
  {
   "cell_type": "code",
   "execution_count": null,
   "metadata": {},
   "outputs": [],
   "source": []
  }
 ],
 "metadata": {
  "kernelspec": {
   "display_name": ".venv",
   "language": "python",
   "name": "python3"
  },
  "language_info": {
   "codemirror_mode": {
    "name": "ipython",
    "version": 3
   },
   "file_extension": ".py",
   "mimetype": "text/x-python",
   "name": "python",
   "nbconvert_exporter": "python",
   "pygments_lexer": "ipython3",
   "version": "3.11.1"
  },
  "orig_nbformat": 4,
  "vscode": {
   "interpreter": {
    "hash": "f358656fae2c11e5c1af348f6d4d253a47fff9094c9aabc7c60026f542975019"
   }
  }
 },
 "nbformat": 4,
 "nbformat_minor": 2
}
